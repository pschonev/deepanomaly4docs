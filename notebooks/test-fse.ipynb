{
 "cells": [
  {
   "cell_type": "code",
   "execution_count": 1,
   "metadata": {},
   "outputs": [
    {
     "name": "stdout",
     "output_type": "stream",
     "text": [
      "4\n"
     ]
    },
    {
     "data": {
      "text/plain": [
       "(['Hello', 'there'], 0)"
      ]
     },
     "execution_count": 1,
     "metadata": {},
     "output_type": "execute_result"
    }
   ],
   "source": [
    "fasttext-wiki-news-subwords-300from fse import SplitIndexedList\n",
    "\n",
    "sentences_a = [\"Hello there\", \"how are you?\"]\n",
    "sentences_b = [\"today is a good day\", \"Lorem ipsum\"]\n",
    "\n",
    "s = SplitIndexedList(sentences_a, sentences_b)\n",
    "print(len(s))\n",
    "s[0]\n"
   ]
  },
  {
   "cell_type": "code",
   "execution_count": 2,
   "metadata": {},
   "outputs": [
    {
     "data": {
      "text/plain": [
       "['Hello there', 'how are you?', 'today is a good day', 'Lorem ipsum']"
      ]
     },
     "execution_count": 2,
     "metadata": {},
     "output_type": "execute_result"
    }
   ],
   "source": [
    "s.items"
   ]
  },
  {
   "cell_type": "code",
   "execution_count": 3,
   "metadata": {},
   "outputs": [],
   "source": [
    "import pandas as pd\n",
    "\n",
    "data_path = \"/home/philipp/projects/dad4td/data/processed/20_news_imdb.pkl\"\n",
    "\n",
    "df = pd.read_pickle(data_path)"
   ]
  },
  {
   "cell_type": "code",
   "execution_count": 4,
   "metadata": {},
   "outputs": [],
   "source": [
    "data = SplitIndexedList(df[\"text\"].tolist())"
   ]
  },
  {
   "cell_type": "code",
   "execution_count": 5,
   "metadata": {},
   "outputs": [
    {
     "name": "stdout",
     "output_type": "stream",
     "text": [
      " Part 1/4 [==================================================] 100.0% 1950.0/1950.0MB downloaded\n",
      " Part 2/4 [==================================================] 100.0% 1950.0/1950.0MB downloaded\n",
      " Part 3/4 [==================================================] 100.0% 1950.0/1950.0MB downloaded\n",
      " Part 4/4 [==================================================] 100.0% 364.2/364.2MB downloaded\n",
      "[==================================================] 100.0% 958.5/958.4MB downloaded\n"
     ]
    }
   ],
   "source": [
    "import gensim.downloader as api\n",
    "\n",
    "glove = api.load(\"glove-wiki-gigaword-100\")\n",
    "wiki = api.load(\"wiki-english-20171001\")\n",
    "fs_model = api.load(\"fasttext-wiki-news-subwords-300\")"
   ]
  },
  {
   "cell_type": "code",
   "execution_count": 6,
   "metadata": {},
   "outputs": [
    {
     "data": {
      "text/plain": [
       "<gensim.models.keyedvectors.Word2VecKeyedVectors at 0x7f06fbdba278>"
      ]
     },
     "execution_count": 6,
     "metadata": {},
     "output_type": "execute_result"
    }
   ],
   "source": [
    "glove"
   ]
  },
  {
   "cell_type": "code",
   "execution_count": 7,
   "metadata": {},
   "outputs": [
    {
     "name": "stdout",
     "output_type": "stream",
     "text": [
      "10000\n",
      "1\n"
     ]
    }
   ],
   "source": [
    "from fse.models.average import FAST_VERSION, MAX_WORDS_IN_BATCH\n",
    "print(MAX_WORDS_IN_BATCH)\n",
    "print(FAST_VERSION)\n"
   ]
  },
  {
   "cell_type": "code",
   "execution_count": 8,
   "metadata": {},
   "outputs": [],
   "source": [
    "from fse.models import uSIF\n",
    "model = uSIF(glove, workers=2, lang_freq=\"en\")"
   ]
  },
  {
   "cell_type": "code",
   "execution_count": 9,
   "metadata": {},
   "outputs": [
    {
     "data": {
      "text/plain": [
       "(61014, 10076873)"
      ]
     },
     "execution_count": 9,
     "metadata": {},
     "output_type": "execute_result"
    }
   ],
   "source": [
    "model.train(data)"
   ]
  },
  {
   "cell_type": "code",
   "execution_count": 10,
   "metadata": {},
   "outputs": [
    {
     "data": {
      "text/plain": [
       "0        [[-0.097180374, 0.037742347, -0.014404744, -0....\n",
       "1        [[0.06937958, -0.02557993, -0.024614722, 0.047...\n",
       "2        [[-0.09341638, 0.19791958, -0.010566562, 0.054...\n",
       "3        [[-0.122231185, 0.037709266, 0.07238832, -0.00...\n",
       "4        [[-0.33304936, 0.12289849, 0.33987442, 0.04047...\n",
       "                               ...                        \n",
       "61309    [[-0.018328704, 0.037038505, 0.07593489, -0.09...\n",
       "61310    [[0.039995346, -0.03756769, 0.04756856, -0.151...\n",
       "61311    [[0.15607604, -0.011223257, -0.11028716, 0.015...\n",
       "61312    [[0.036850266, -0.009918168, 0.09712073, -0.01...\n",
       "61313    [[-0.0027821586, 0.03295517, 0.10849801, -0.07...\n",
       "Name: vecs, Length: 61096, dtype: object"
      ]
     },
     "execution_count": 10,
     "metadata": {},
     "output_type": "execute_result"
    }
   ],
   "source": [
    "df[\"vecs\"] = df[\"text\"].map(lambda x: model.infer([(x.split(), 0)]))\n",
    "df[\"vecs\"]"
   ]
  },
  {
   "cell_type": "code",
   "execution_count": null,
   "metadata": {},
   "outputs": [],
   "source": []
  }
 ],
 "metadata": {
  "kernelspec": {
   "display_name": "Python 3.6.9 64-bit ('dad4tdenv': venv)",
   "language": "python",
   "name": "python36964bitdad4tdenvvenvbadc0b7578644829a11dd74208a3885a"
  },
  "language_info": {
   "codemirror_mode": {
    "name": "ipython",
    "version": 3
   },
   "file_extension": ".py",
   "mimetype": "text/x-python",
   "name": "python",
   "nbconvert_exporter": "python",
   "pygments_lexer": "ipython3",
   "version": "3.6.9"
  }
 },
 "nbformat": 4,
 "nbformat_minor": 4
}
