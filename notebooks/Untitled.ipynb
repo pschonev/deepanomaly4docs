{
 "cells": [
  {
   "cell_type": "code",
   "execution_count": 8,
   "metadata": {},
   "outputs": [
    {
     "name": "stdout",
     "output_type": "stream",
     "text": [
      "(3, 4, 42)\n",
      "(3, 4, 43)\n",
      "(3, 4, 44)\n"
     ]
    }
   ],
   "source": [
    "from collections import defaultdict, OrderedDict\n",
    "from itertools import product\n",
    "\n",
    "testd = dict(test=[3], bla=[4], blabla=[42, 43, 44])\n",
    "for i in product(*testd.values()):\n",
    "    print(i)"
   ]
  },
  {
   "cell_type": "code",
   "execution_count": 9,
   "metadata": {},
   "outputs": [
    {
     "data": {
      "text/plain": [
       "dict_values([[3], [4], [42, 43, 44]])"
      ]
     },
     "execution_count": 9,
     "metadata": {},
     "output_type": "execute_result"
    }
   ],
   "source": [
    "testd.values()"
   ]
  },
  {
   "cell_type": "code",
   "execution_count": 11,
   "metadata": {},
   "outputs": [
    {
     "data": {
      "text/plain": [
       "TestSettings(n_comps=[3, 15, 45, 200], mix_ratio=[0.0, 0.3, 0.15, 0.4], umap_metric=['cosine'], min_cluster_size=[15, 45, 90])"
      ]
     },
     "execution_count": 11,
     "metadata": {},
     "output_type": "execute_result"
    }
   ],
   "source": [
    "from dataclasses import dataclass\n",
    "from typing import List\n",
    "\n",
    "@dataclass\n",
    "class TestSettings:\n",
    "    n_comps: List[int]\n",
    "    mix_ratio: List[float]\n",
    "    umap_metric: List[str]\n",
    "    min_cluster_size: List[int]\n",
    "        \n",
    "standard_test = TestSettings([3, 15, 45, 200], [0.0, 0.3, 0.15, 0.4], [\"cosine\"], [15, 45, 90])\n",
    "\n",
    "standard_test"
   ]
  },
  {
   "cell_type": "code",
   "execution_count": 28,
   "metadata": {},
   "outputs": [
    {
     "data": {
      "text/plain": [
       "dict_values([[3, 15, 45, 200], [0.0, 0.3, 0.15, 0.4], ['cosine'], [15, 45, 90]])"
      ]
     },
     "execution_count": 28,
     "metadata": {},
     "output_type": "execute_result"
    }
   ],
   "source": [
    "standard_test.__dict__.values()"
   ]
  },
  {
   "cell_type": "code",
   "execution_count": 30,
   "metadata": {},
   "outputs": [
    {
     "name": "stdout",
     "output_type": "stream",
     "text": [
      "(3, 0.0, 'cosine', 15)\n",
      "(3, 0.0, 'cosine', 45)\n",
      "(3, 0.0, 'cosine', 90)\n",
      "(3, 0.3, 'cosine', 15)\n",
      "(3, 0.3, 'cosine', 45)\n",
      "(3, 0.3, 'cosine', 90)\n",
      "(3, 0.15, 'cosine', 15)\n",
      "(3, 0.15, 'cosine', 45)\n",
      "(3, 0.15, 'cosine', 90)\n",
      "(3, 0.4, 'cosine', 15)\n",
      "(3, 0.4, 'cosine', 45)\n",
      "(3, 0.4, 'cosine', 90)\n",
      "(15, 0.0, 'cosine', 15)\n",
      "(15, 0.0, 'cosine', 45)\n",
      "(15, 0.0, 'cosine', 90)\n",
      "(15, 0.3, 'cosine', 15)\n",
      "(15, 0.3, 'cosine', 45)\n",
      "(15, 0.3, 'cosine', 90)\n",
      "(15, 0.15, 'cosine', 15)\n",
      "(15, 0.15, 'cosine', 45)\n",
      "(15, 0.15, 'cosine', 90)\n",
      "(15, 0.4, 'cosine', 15)\n",
      "(15, 0.4, 'cosine', 45)\n",
      "(15, 0.4, 'cosine', 90)\n",
      "(45, 0.0, 'cosine', 15)\n",
      "(45, 0.0, 'cosine', 45)\n",
      "(45, 0.0, 'cosine', 90)\n",
      "(45, 0.3, 'cosine', 15)\n",
      "(45, 0.3, 'cosine', 45)\n",
      "(45, 0.3, 'cosine', 90)\n",
      "(45, 0.15, 'cosine', 15)\n",
      "(45, 0.15, 'cosine', 45)\n",
      "(45, 0.15, 'cosine', 90)\n",
      "(45, 0.4, 'cosine', 15)\n",
      "(45, 0.4, 'cosine', 45)\n",
      "(45, 0.4, 'cosine', 90)\n",
      "(200, 0.0, 'cosine', 15)\n",
      "(200, 0.0, 'cosine', 45)\n",
      "(200, 0.0, 'cosine', 90)\n",
      "(200, 0.3, 'cosine', 15)\n",
      "(200, 0.3, 'cosine', 45)\n",
      "(200, 0.3, 'cosine', 90)\n",
      "(200, 0.15, 'cosine', 15)\n",
      "(200, 0.15, 'cosine', 45)\n",
      "(200, 0.15, 'cosine', 90)\n",
      "(200, 0.4, 'cosine', 15)\n",
      "(200, 0.4, 'cosine', 45)\n",
      "(200, 0.4, 'cosine', 90)\n"
     ]
    }
   ],
   "source": [
    "for i in product(*standard_test.__dict__.values()):\n",
    "    print(i)"
   ]
  },
  {
   "cell_type": "code",
   "execution_count": 39,
   "metadata": {},
   "outputs": [
    {
     "name": "stdout",
     "output_type": "stream",
     "text": [
      "('path', ['/home/philipp/projects/dad4td/data/processed/20_news_imdb.pkl'])\n",
      "('name', ['imdb_20news'])\n",
      "('fraction', [0.15])\n",
      "('contamination', [0.1])\n",
      "('seed', [42, 43, 44])\n"
     ]
    }
   ],
   "source": [
    "@dataclass\n",
    "class TestData:\n",
    "    path: str\n",
    "    name: str\n",
    "    fraction: List[float]\n",
    "    contamination: List[float]\n",
    "    seed: List[int]\n",
    "        \n",
    "imdb_20news_3splits = TestData(\n",
    "    [\"/home/philipp/projects/dad4td/data/processed/20_news_imdb.pkl\"], [\"imdb_20news\"], [0.15], [0.1], [42, 43, 44])\n",
    "\n",
    "for i in zip(imdb_20news_3splits.__dict__,imdb_20news_3splits.__dict__.values()):\n",
    "    print(i)"
   ]
  },
  {
   "cell_type": "code",
   "execution_count": 35,
   "metadata": {},
   "outputs": [
    {
     "name": "stdout",
     "output_type": "stream",
     "text": [
      "('/home/philipp/projects/dad4td/data/processed/20_news_imdb.pkl', 'imdb_20news', 0.15, 0.1, 42)\n",
      "('/home/philipp/projects/dad4td/data/processed/20_news_imdb.pkl', 'imdb_20news', 0.15, 0.1, 43)\n",
      "('/home/philipp/projects/dad4td/data/processed/20_news_imdb.pkl', 'imdb_20news', 0.15, 0.1, 44)\n"
     ]
    }
   ],
   "source": [
    "for i in product(*imdb_20news_3splits.__dict__.values()):\n",
    "    print(i)"
   ]
  },
  {
   "cell_type": "code",
   "execution_count": null,
   "metadata": {},
   "outputs": [],
   "source": []
  }
 ],
 "metadata": {
  "kernelspec": {
   "display_name": "Python 3.6.9 64-bit ('dad4tdenv': venv)",
   "language": "python",
   "name": "python36964bitdad4tdenvvenvbadc0b7578644829a11dd74208a3885a"
  },
  "language_info": {
   "codemirror_mode": {
    "name": "ipython",
    "version": 3
   },
   "file_extension": ".py",
   "mimetype": "text/x-python",
   "name": "python",
   "nbconvert_exporter": "python",
   "pygments_lexer": "ipython3",
   "version": "3.6.9"
  }
 },
 "nbformat": 4,
 "nbformat_minor": 4
}
